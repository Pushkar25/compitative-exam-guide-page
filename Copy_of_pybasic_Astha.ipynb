{
  "nbformat": 4,
  "nbformat_minor": 0,
  "metadata": {
    "kernelspec": {
      "name": "python3",
      "display_name": "Python 3",
      "language": "python"
    },
    "language_info": {
      "mimetype": "text/x-python",
      "nbconvert_exporter": "python",
      "name": "python",
      "pygments_lexer": "ipython3",
      "version": "3.5.4",
      "file_extension": ".py",
      "codemirror_mode": {
        "version": 3,
        "name": "ipython"
      }
    },
    "colab": {
      "name": "Copy of pybasic_Astha.ipynb",
      "provenance": [],
      "collapsed_sections": [],
      "include_colab_link": true
    }
  },
  "cells": [
    {
      "cell_type": "markdown",
      "metadata": {
        "id": "view-in-github",
        "colab_type": "text"
      },
      "source": [
        "<a href=\"https://colab.research.google.com/github/Pushkar25/compitative-exam-guide-page/blob/master/Copy_of_pybasic_Astha.ipynb\" target=\"_parent\"><img src=\"https://colab.research.google.com/assets/colab-badge.svg\" alt=\"Open In Colab\"/></a>"
      ]
    },
    {
      "cell_type": "markdown",
      "metadata": {
        "heading_collapsed": true,
        "id": "n_VDg1RwuChB",
        "colab_type": "text"
      },
      "source": [
        "# Expressions, Operators, Control statements"
      ]
    },
    {
      "cell_type": "code",
      "metadata": {
        "id": "Rc6gK_TEv2QF",
        "colab_type": "code",
        "colab": {}
      },
      "source": [
        ""
      ],
      "execution_count": 0,
      "outputs": []
    },
    {
      "cell_type": "markdown",
      "metadata": {
        "id": "6Cw_bQCzuChF",
        "colab_type": "text"
      },
      "source": [
        "# Operators\n",
        "- Arithmetic (+, -, *, /, //, %)\n",
        "- Relational (<, >, <=, >=, !=, ==)\n",
        "- Shift (>>, <<)\n",
        "- Assignment (=)\n",
        "- Logical (and, or, not)\n",
        "- Bitwise (&, |, !)\n",
        "- 'in' and 'not in' operator\n"
      ]
    },
    {
      "cell_type": "markdown",
      "metadata": {
        "id": "FEu90oEtuChG",
        "colab_type": "raw"
      },
      "source": [
        "# << and >>\n",
        "\n",
        "if n=8 (1000 in binary), n>>1 will give 100 after shifting bits by 1 place to right. \n",
        "                         n<<1 will give 10000 after shifting bits by 1 place to left."
      ]
    },
    {
      "cell_type": "code",
      "metadata": {
        "trusted": false,
        "id": "7v33-5nguChI",
        "colab_type": "code",
        "outputId": "8493c073-1f46-4c84-c283-b19edf44dcf2",
        "colab": {
          "base_uri": "https://localhost:8080/",
          "height": 68
        }
      },
      "source": [
        "n=10\n",
        "print(n,'binary',format(n,'b'))\n",
        "print(n,'* 2=',n<<1, format(n<<1,'b'))\n",
        "print(n,'/ 2=',n>>1,format(n>>1,'b'))"
      ],
      "execution_count": 0,
      "outputs": [
        {
          "output_type": "stream",
          "text": [
            "10 binary 1010\n",
            "10 * 2= 20 10100\n",
            "10 / 2= 5 101\n"
          ],
          "name": "stdout"
        }
      ]
    },
    {
      "cell_type": "code",
      "metadata": {
        "trusted": false,
        "id": "2QV1wgNYuChQ",
        "colab_type": "code",
        "outputId": "80d4125b-c47c-44db-dbff-3a3606bac1de",
        "colab": {
          "base_uri": "https://localhost:8080/",
          "height": 68
        }
      },
      "source": [
        "# logical\n",
        "x = True\n",
        "y = False\n",
        "print('x and y is',x and y) # Output: x and y is False\n",
        "print('x or y is',x or y) # Output: x or y is True\n",
        "print('not x is',not x) # Output: not x is False"
      ],
      "execution_count": 0,
      "outputs": [
        {
          "output_type": "stream",
          "text": [
            "x and y is False\n",
            "x or y is True\n",
            "not x is False\n"
          ],
          "name": "stdout"
        }
      ]
    },
    {
      "cell_type": "code",
      "metadata": {
        "trusted": false,
        "id": "Az6UaXmPuChV",
        "colab_type": "code",
        "outputId": "698e81a2-e13a-4566-ddb0-a52ba5b81f24",
        "colab": {
          "base_uri": "https://localhost:8080/",
          "height": 68
        }
      },
      "source": [
        "# bitwise\n",
        "x=10 \n",
        "y=4\n",
        "print(x & y) \n",
        "print(x | y)\n",
        "print(x ^ y)"
      ],
      "execution_count": 28,
      "outputs": [
        {
          "output_type": "stream",
          "text": [
            "0\n",
            "14\n",
            "14\n"
          ],
          "name": "stdout"
        }
      ]
    },
    {
      "cell_type": "code",
      "metadata": {
        "trusted": false,
        "id": "fHdeM7hKuCha",
        "colab_type": "code",
        "outputId": "73e91af8-194f-438b-fd22-4831d9ee0b68",
        "colab": {
          "base_uri": "https://localhost:8080/",
          "height": 51
        }
      },
      "source": [
        "# in and not in\n",
        "\n",
        "x = 'Hello world'\n",
        "print('j' in x)    # Output: True\n",
        "print('h' not in x)   # Output: True"
      ],
      "execution_count": 29,
      "outputs": [
        {
          "output_type": "stream",
          "text": [
            "False\n",
            "True\n"
          ],
          "name": "stdout"
        }
      ]
    },
    {
      "cell_type": "code",
      "metadata": {
        "trusted": false,
        "id": "WulnhHhpuChl",
        "colab_type": "code",
        "colab": {
          "base_uri": "https://localhost:8080/",
          "height": 214
        },
        "outputId": "6eaf3b0b-b4e1-4b71-a705-09c499eae10e"
      },
      "source": [
        "import math\n",
        "a=4\n",
        "b=3\n",
        "c=5\n",
        "k=(a+b+c)/3\n",
        "s=int(k)\n",
        "area=math.sqrt(s(s-a)(s-b)(s-c))\n",
        "print(area)"
      ],
      "execution_count": 30,
      "outputs": [
        {
          "output_type": "error",
          "ename": "TypeError",
          "evalue": "ignored",
          "traceback": [
            "\u001b[0;31m---------------------------------------------------------------------------\u001b[0m",
            "\u001b[0;31mTypeError\u001b[0m                                 Traceback (most recent call last)",
            "\u001b[0;32m<ipython-input-30-14ebc2e9ef11>\u001b[0m in \u001b[0;36m<module>\u001b[0;34m()\u001b[0m\n\u001b[1;32m      5\u001b[0m \u001b[0mk\u001b[0m\u001b[0;34m=\u001b[0m\u001b[0;34m(\u001b[0m\u001b[0ma\u001b[0m\u001b[0;34m+\u001b[0m\u001b[0mb\u001b[0m\u001b[0;34m+\u001b[0m\u001b[0mc\u001b[0m\u001b[0;34m)\u001b[0m\u001b[0;34m/\u001b[0m\u001b[0;36m3\u001b[0m\u001b[0;34m\u001b[0m\u001b[0;34m\u001b[0m\u001b[0m\n\u001b[1;32m      6\u001b[0m \u001b[0ms\u001b[0m\u001b[0;34m=\u001b[0m\u001b[0mint\u001b[0m\u001b[0;34m(\u001b[0m\u001b[0mk\u001b[0m\u001b[0;34m)\u001b[0m\u001b[0;34m\u001b[0m\u001b[0;34m\u001b[0m\u001b[0m\n\u001b[0;32m----> 7\u001b[0;31m \u001b[0marea\u001b[0m\u001b[0;34m=\u001b[0m\u001b[0mmath\u001b[0m\u001b[0;34m.\u001b[0m\u001b[0msqrt\u001b[0m\u001b[0;34m(\u001b[0m\u001b[0ms\u001b[0m\u001b[0;34m(\u001b[0m\u001b[0ms\u001b[0m\u001b[0;34m-\u001b[0m\u001b[0ma\u001b[0m\u001b[0;34m)\u001b[0m\u001b[0;34m(\u001b[0m\u001b[0ms\u001b[0m\u001b[0;34m-\u001b[0m\u001b[0mb\u001b[0m\u001b[0;34m)\u001b[0m\u001b[0;34m(\u001b[0m\u001b[0ms\u001b[0m\u001b[0;34m-\u001b[0m\u001b[0mc\u001b[0m\u001b[0;34m)\u001b[0m\u001b[0;34m)\u001b[0m\u001b[0;34m\u001b[0m\u001b[0;34m\u001b[0m\u001b[0m\n\u001b[0m\u001b[1;32m      8\u001b[0m \u001b[0mprint\u001b[0m\u001b[0;34m(\u001b[0m\u001b[0marea\u001b[0m\u001b[0;34m)\u001b[0m\u001b[0;34m\u001b[0m\u001b[0;34m\u001b[0m\u001b[0m\n",
            "\u001b[0;31mTypeError\u001b[0m: 'int' object is not callable"
          ]
        }
      ]
    },
    {
      "cell_type": "code",
      "metadata": {
        "trusted": false,
        "id": "SD083I1euChe",
        "colab_type": "code",
        "outputId": "245b0ebd-76fe-443d-8427-d2fdd84b3d00",
        "colab": {
          "base_uri": "https://localhost:8080/",
          "height": 85
        }
      },
      "source": [
        "# perform operations on cs\n",
        "\n",
        "import cmath\n",
        "a=complex(20+7j)\n",
        "b=complex(5+3j)\n",
        "print('a+b',a+b)\n",
        "print('a-b',a-b)\n",
        "print('a*b',a*b)\n",
        "print('a/b',a/b)"
      ],
      "execution_count": 32,
      "outputs": [
        {
          "output_type": "stream",
          "text": [
            "a+b (25+10j)\n",
            "a-b (15+4j)\n",
            "a*b (79+95j)\n",
            "a/b (3.5588235294117645-0.7352941176470589j)\n"
          ],
          "name": "stdout"
        }
      ]
    },
    {
      "cell_type": "code",
      "metadata": {
        "id": "vvnJBOLewPRn",
        "colab_type": "code",
        "colab": {}
      },
      "source": [
        ""
      ],
      "execution_count": 0,
      "outputs": []
    },
    {
      "cell_type": "markdown",
      "metadata": {
        "id": "Ks4llkCxuChj",
        "colab_type": "text"
      },
      "source": [
        "### Task1 Write a program in python to calculate area of triangle when all three sides are given.\n",
        "- s=(a+b+c)/2\n",
        "- area =  √(s(s-a)(s-b)(s-c) )"
      ]
    },
    {
      "cell_type": "markdown",
      "metadata": {
        "id": "J-WVeW51uChr",
        "colab_type": "text"
      },
      "source": [
        "# Control Statements"
      ]
    },
    {
      "cell_type": "markdown",
      "metadata": {
        "id": "OsmF1j5wuChs",
        "colab_type": "text"
      },
      "source": [
        "### Decisions (if-else)"
      ]
    },
    {
      "cell_type": "markdown",
      "metadata": {
        "id": "f48xY3pmuChu",
        "colab_type": "raw"
      },
      "source": [
        "# simple if-else\n",
        "if(cond):\n",
        "    stmt\n",
        "else:\n",
        "    stmt"
      ]
    },
    {
      "cell_type": "markdown",
      "metadata": {
        "id": "fL6cU4vTuChv",
        "colab_type": "raw"
      },
      "source": [
        "# if-else-if\n",
        "if(cond):\n",
        "    stmt\n",
        "elif(cond):\n",
        "    stmt\n",
        "    .\n",
        "    .\n",
        "    .\n",
        "else: \n",
        "    stmt"
      ]
    },
    {
      "cell_type": "markdown",
      "metadata": {
        "id": "qDbMSLPWuChx",
        "colab_type": "raw"
      },
      "source": [
        "# nested if-else\n",
        "                            if(cond):\n",
        "                                stmt\n",
        "                                if(cond):\n",
        "                                    stmt1\n",
        "                            else:\n",
        "                                if(cond):\n",
        "                                    stmt3\n",
        "                                else:\n",
        "                                    stmt4"
      ]
    },
    {
      "cell_type": "markdown",
      "metadata": {
        "heading_collapsed": true,
        "id": "osB-_kdfuChz",
        "colab_type": "text"
      },
      "source": [
        "### Task2: Write a proram that accept a lowercase/uppercase character from the user and check whether the character is a vowel or consonant."
      ]
    },
    {
      "cell_type": "code",
      "metadata": {
        "hidden": true,
        "trusted": false,
        "id": "ER1s9HLLuCh1",
        "colab_type": "code",
        "outputId": "4282f036-23a8-48e1-afa1-9319ccb7b0a8",
        "colab": {
          "base_uri": "https://localhost:8080/",
          "height": 51
        }
      },
      "source": [
        "# write your code after this line\n",
        "str=input('Enter a letter: ').lower()\n",
        "if(str == 'a' or str == 'e' or str == 'i' or str == 'o' or str == 'u'):\n",
        "  print(str,'is vowel')\n",
        "else:\n",
        "  print(str,'is consonant')\n",
        "\n"
      ],
      "execution_count": 33,
      "outputs": [
        {
          "output_type": "stream",
          "text": [
            "Enter a letter: l\n",
            "l is consonant\n"
          ],
          "name": "stdout"
        }
      ]
    },
    {
      "cell_type": "markdown",
      "metadata": {
        "heading_collapsed": true,
        "id": "K78UkrbLuCh9",
        "colab_type": "text"
      },
      "source": [
        "### Task3: Write a program to check whether given character is a digit or a character in lowercase or uppercase alphabet. Hint: ASCII value of digit is between 48 to 58 and Lowercase characters in the range of 97 to122, uppercase is between 65 and 90)."
      ]
    },
    {
      "cell_type": "code",
      "metadata": {
        "hidden": true,
        "trusted": false,
        "id": "ECZGi0hruCh-",
        "colab_type": "code",
        "outputId": "3a62596b-2f2a-435e-d085-9a122fe1968b",
        "colab": {
          "base_uri": "https://localhost:8080/",
          "height": 51
        }
      },
      "source": [
        "# write your code after this line\n",
        "str = input(\"Enter a digit(ACSII) or character: \")\n",
        "str=ord(str)\n",
        "if str>=97 and str<=122:\n",
        "  print(\"lower case letter\")\n",
        "if str>=48 and str<=58:\n",
        "  print(\"is a digit\")\n",
        "if str>=65 and str<=90:\n",
        "  print(\"upper case letter\")\n",
        "\n"
      ],
      "execution_count": 34,
      "outputs": [
        {
          "output_type": "stream",
          "text": [
            "Enter a digit(ACSII) or character: k\n",
            "lower case letter\n"
          ],
          "name": "stdout"
        }
      ]
    },
    {
      "cell_type": "markdown",
      "metadata": {
        "id": "4vS2xTXOuCiC",
        "colab_type": "text"
      },
      "source": [
        "### Repetition or loop\n",
        "- while loop\n",
        "- for loop"
      ]
    },
    {
      "cell_type": "markdown",
      "metadata": {
        "id": "10zY80T_uCiD",
        "colab_type": "text"
      },
      "source": [
        "#### While loop"
      ]
    },
    {
      "cell_type": "markdown",
      "metadata": {
        "id": "aLy4RdvpuCiE",
        "colab_type": "raw"
      },
      "source": [
        "initialization of loop variable\n",
        "while( condition ):\n",
        "    stmt 1\n",
        "    stmt 2\n",
        "    ...\n",
        "    update loop variable"
      ]
    },
    {
      "cell_type": "markdown",
      "metadata": {
        "id": "ZZJYEIcluCiF",
        "colab_type": "text"
      },
      "source": [
        "##### Task 4: Write a program in Python to print table of any number 'n' provided by user using while loop."
      ]
    },
    {
      "cell_type": "code",
      "metadata": {
        "trusted": false,
        "id": "TrTjzgI_uCiH",
        "colab_type": "code",
        "outputId": "30c7ae0a-b335-47a6-8c8f-d1cee887f3a2",
        "colab": {
          "base_uri": "https://localhost:8080/",
          "height": 204
        }
      },
      "source": [
        "n=int(input(\"enter a number\"))\n",
        "i=1\n",
        "while(i<11):\n",
        "  print(n,\" * \",i,\"=\",n*i)\n",
        "  i=i+1"
      ],
      "execution_count": 11,
      "outputs": [
        {
          "output_type": "stream",
          "text": [
            "enter a number8\n",
            "8  *  1 = 8\n",
            "8  *  2 = 16\n",
            "8  *  3 = 24\n",
            "8  *  4 = 32\n",
            "8  *  5 = 40\n",
            "8  *  6 = 48\n",
            "8  *  7 = 56\n",
            "8  *  8 = 64\n",
            "8  *  9 = 72\n",
            "8  *  10 = 80\n"
          ],
          "name": "stdout"
        }
      ]
    },
    {
      "cell_type": "code",
      "metadata": {
        "id": "eX3FACE1yh7t",
        "colab_type": "code",
        "colab": {}
      },
      "source": [
        "\n"
      ],
      "execution_count": 0,
      "outputs": []
    },
    {
      "cell_type": "markdown",
      "metadata": {
        "id": "ae_w6RcmuCiM",
        "colab_type": "text"
      },
      "source": [
        "##### Task 5: Write a program in Python to evaluate the following series using while loop:\n",
        "    \n",
        "    1! + 2! + 3! + 4! ...+ n!\n",
        "hint: use math.factorial(n) function to calculate factorial of number n."
      ]
    },
    {
      "cell_type": "code",
      "metadata": {
        "id": "H-elUTwK0EDf",
        "colab_type": "code",
        "outputId": "464ed202-cbb4-4dcb-f74e-c3f7f333d8f6",
        "colab": {
          "base_uri": "https://localhost:8080/",
          "height": 51
        }
      },
      "source": [
        "import math\n",
        "n=int(input(\"enter a number\"))\n",
        "i=1\n",
        "sum=0\n",
        "while(i<=n):\n",
        "  sum=sum+math.factorial(i)\n",
        "  i=i+1\n",
        "print(sum)  \n"
      ],
      "execution_count": 15,
      "outputs": [
        {
          "output_type": "stream",
          "text": [
            "enter a number3\n",
            "9\n"
          ],
          "name": "stdout"
        }
      ]
    },
    {
      "cell_type": "markdown",
      "metadata": {
        "id": "eeXNvxy8uCiU",
        "colab_type": "text"
      },
      "source": [
        "##### Task 6: Write a program in Python to enter the numbers till the user wants and at the end it should display the maximum number entered using while loop."
      ]
    },
    {
      "cell_type": "code",
      "metadata": {
        "trusted": false,
        "id": "Mwecmh1ZuCiV",
        "colab_type": "code",
        "outputId": "558b2d38-e820-426a-e604-7023834824c3",
        "colab": {
          "base_uri": "https://localhost:8080/",
          "height": 102
        }
      },
      "source": [
        "n=int(input(\"enter the no of numbers you want to enter\"))\n",
        "i=0\n",
        "ar=[]\n",
        "while(i<n):\n",
        "  ar.append(int(input()))\n",
        "  i=i+1\n",
        "print(\"maximum is\",max(ar))  \n"
      ],
      "execution_count": 20,
      "outputs": [
        {
          "output_type": "stream",
          "text": [
            "enter the no of numbers you want to enter3\n",
            "5\n",
            "2\n",
            "8\n",
            "maximum is 8\n"
          ],
          "name": "stdout"
        }
      ]
    },
    {
      "cell_type": "markdown",
      "metadata": {
        "id": "1NEdGg9SuCiZ",
        "colab_type": "text"
      },
      "source": [
        "### for loop"
      ]
    },
    {
      "cell_type": "markdown",
      "metadata": {
        "id": "Ui3_CBMguCia",
        "colab_type": "raw"
      },
      "source": [
        "for iterable_var_name in range(terminating_value):\n",
        "    stmt 1\n",
        "    stmt 2\n",
        "    ...\n",
        "    \n",
        " for iterable_var_name in range(initial_value,terminating_value):\n",
        "    stmt 1\n",
        "    stmt 2\n",
        "    ...\n",
        "    \n",
        " for iterable_var_name in range(initial_value,terminating_value,updation):\n",
        "    stmt 1\n",
        "    stmt 2\n",
        "    ..."
      ]
    },
    {
      "cell_type": "code",
      "metadata": {
        "trusted": false,
        "id": "gKDSJNtVuCib",
        "colab_type": "code",
        "outputId": "2fdf38d4-cec7-4205-a5ce-f5e4cfc14b19",
        "colab": {
          "base_uri": "https://localhost:8080/",
          "height": 51
        }
      },
      "source": [
        "# factorial\n",
        "n=int(input('Enter a number '))\n",
        "fact=1\n",
        "for i in range(n,1,-1):\n",
        "    fact=fact*i\n",
        "print(n,'! =',fact)"
      ],
      "execution_count": 0,
      "outputs": [
        {
          "output_type": "stream",
          "text": [
            "Enter a number 8\n",
            "8 ! = 40320\n"
          ],
          "name": "stdout"
        }
      ]
    },
    {
      "cell_type": "markdown",
      "metadata": {
        "id": "tPc22JJGuCif",
        "colab_type": "text"
      },
      "source": [
        "##### Task 7:Write a program in Python to print all numbers from 0 to 9 except 3 and 6 using a for loop. \n"
      ]
    },
    {
      "cell_type": "code",
      "metadata": {
        "trusted": false,
        "id": "y1ikCkQvuCig",
        "colab_type": "code",
        "colab": {}
      },
      "source": [
        "for i in range(10):\n",
        "  if i==3 and i==6:\n",
        "    continue\n",
        "    print(i) \n"
      ],
      "execution_count": 0,
      "outputs": []
    },
    {
      "cell_type": "markdown",
      "metadata": {
        "id": "e1v7v-l6uCik",
        "colab_type": "text"
      },
      "source": [
        "#### 2 Write a program in Python to get 10 numbers from user using a for loop. The program should print the count of positive numbers, negative numbers and zeroes entered by the user."
      ]
    },
    {
      "cell_type": "code",
      "metadata": {
        "trusted": false,
        "id": "ivTl5evQuCiq",
        "colab_type": "code",
        "outputId": "85532c8b-a8a1-4b37-f17e-f28e916e80c5",
        "colab": {
          "base_uri": "https://localhost:8080/",
          "height": 238
        }
      },
      "source": [
        "count1=0\n",
        "count2=0\n",
        "count3=0\n",
        "for i in range (10):\n",
        "  y=int(input(\"enter the number\"))\n",
        "  if(y>0):\n",
        "    count1+=1\n",
        "  elif(y<0):\n",
        "    count2+=1\n",
        "  else:\n",
        "    count3+=1\n",
        "print(\"positive :{}\".format(count1))\n",
        "print(\"negative :{}\".format(count2))\n",
        "print(\"zero :{}\".format(count3))"
      ],
      "execution_count": 0,
      "outputs": [
        {
          "output_type": "stream",
          "text": [
            "Enter the number : 0\n",
            "Enter the number : 2\n",
            "Enter the number : -8\n",
            "Enter the number : 1\n",
            "Enter the number : -5\n",
            "Enter the number : 4\n",
            "Enter the number : -3\n",
            "Enter the number : 9\n",
            "Enter the number : -6\n",
            "Enter the number : 7\n",
            "Negative : 4 \n",
            "Positive : 5 \n",
            "Zero : 1\n"
          ],
          "name": "stdout"
        }
      ]
    }
  ]
}
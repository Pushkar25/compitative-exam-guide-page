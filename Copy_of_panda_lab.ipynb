{
  "nbformat": 4,
  "nbformat_minor": 0,
  "metadata": {
    "colab": {
      "name": "Copy of panda_lab.ipynb",
      "provenance": [],
      "authorship_tag": "ABX9TyPmW84FgxQQqspXckUVnB9q",
      "include_colab_link": true
    },
    "kernelspec": {
      "name": "python3",
      "display_name": "Python 3"
    }
  },
  "cells": [
    {
      "cell_type": "markdown",
      "metadata": {
        "id": "view-in-github",
        "colab_type": "text"
      },
      "source": [
        "<a href=\"https://colab.research.google.com/github/Pushkar25/compitative-exam-guide-page/blob/master/Copy_of_panda_lab.ipynb\" target=\"_parent\"><img src=\"https://colab.research.google.com/assets/colab-badge.svg\" alt=\"Open In Colab\"/></a>"
      ]
    },
    {
      "cell_type": "code",
      "metadata": {
        "id": "rIIkjLZ0vB3t",
        "colab_type": "code",
        "colab": {}
      },
      "source": [
        "import pandas as pd\n",
        "import numpy as np"
      ],
      "execution_count": 0,
      "outputs": []
    },
    {
      "cell_type": "code",
      "metadata": {
        "id": "v6t55keNvGLG",
        "colab_type": "code",
        "colab": {}
      },
      "source": [
        "df=pd.DataFrame(np.random.randn(5,4))\n",
        "print(df)\n",
        "df[[2,3]]\n",
        "df['new']=df[2]+df[3]\n",
        "df[6]=df['new']+df[1]\n",
        "print(df)"
      ],
      "execution_count": 0,
      "outputs": []
    },
    {
      "cell_type": "code",
      "metadata": {
        "id": "xkQR360D0YUt",
        "colab_type": "code",
        "colab": {}
      },
      "source": [
        ""
      ],
      "execution_count": 0,
      "outputs": []
    },
    {
      "cell_type": "code",
      "metadata": {
        "id": "N3PNT-royEqN",
        "colab_type": "code",
        "colab": {}
      },
      "source": [
        "df[[2,3]]"
      ],
      "execution_count": 0,
      "outputs": []
    },
    {
      "cell_type": "code",
      "metadata": {
        "id": "oDDi0N06wyef",
        "colab_type": "code",
        "colab": {}
      },
      "source": [
        "df\n",
        "df.drop('new',axis=1,inplace=True)\n",
        "print(df)\n"
      ],
      "execution_count": 0,
      "outputs": []
    },
    {
      "cell_type": "code",
      "metadata": {
        "id": "zoyaAL7F1tz1",
        "colab_type": "code",
        "colab": {}
      },
      "source": [
        "\n",
        "df.drop(2,axis=0,inplace=True)\n",
        "print(df)"
      ],
      "execution_count": 0,
      "outputs": []
    },
    {
      "cell_type": "code",
      "metadata": {
        "id": "Y0bmbQEe1_hz",
        "colab_type": "code",
        "colab": {}
      },
      "source": [
        "\n",
        "df=pd.DataFrame(np.random.randn(5,4))\n",
        "df[[2,3]]\n",
        "print(df.loc[1:3,1:3])"
      ],
      "execution_count": 0,
      "outputs": []
    },
    {
      "cell_type": "code",
      "metadata": {
        "id": "2IwX2bWv3Ieq",
        "colab_type": "code",
        "colab": {}
      },
      "source": [
        "df=pd.DataFrame(np.random.randn(5,4))\n",
        "print(df[[2,3]])"
      ],
      "execution_count": 0,
      "outputs": []
    },
    {
      "cell_type": "code",
      "metadata": {
        "id": "jd-R3pdF3Xbv",
        "colab_type": "code",
        "colab": {}
      },
      "source": [
        "df=pd.DataFrame(np.random.randn(5,4))\n",
        "print(df)\n",
        "df.iloc[1:3]"
      ],
      "execution_count": 0,
      "outputs": []
    },
    {
      "cell_type": "code",
      "metadata": {
        "id": "lLYx4ubs32MH",
        "colab_type": "code",
        "colab": {}
      },
      "source": [
        "df=pd.DataFrame(np.random.randn(5,4))\n",
        "print(df.loc[[1,2],[0,3]])\n",
        "df.drop(df>0,axis=1,inplace=True)"
      ],
      "execution_count": 0,
      "outputs": []
    },
    {
      "cell_type": "code",
      "metadata": {
        "id": "_OAxLTEx5lhB",
        "colab_type": "code",
        "colab": {}
      },
      "source": [
        "df=pd.DataFrame(np.random.randn(5,4))\n",
        "print(df)\n",
        "df[1]=df>0\n",
        "print(df[1])\n",
        "df[df>0]\n"
      ],
      "execution_count": 0,
      "outputs": []
    },
    {
      "cell_type": "code",
      "metadata": {
        "id": "atNDLLpr7WjU",
        "colab_type": "code",
        "outputId": "1de91468-2ae1-4111-a113-f131719584ad",
        "colab": {
          "base_uri": "https://localhost:8080/",
          "height": 238
        }
      },
      "source": [
        "df=pd.DataFrame(np.random.randn(5,4))\n",
        "print(df)\n",
        "df['new']='a b c d e'.split()\n",
        "df.set_index('new',inplace =True)\n",
        "print(df)"
      ],
      "execution_count": 0,
      "outputs": [
        {
          "output_type": "stream",
          "text": [
            "          0         1         2         3\n",
            "0 -0.231480 -0.495243  0.403791  0.151011\n",
            "1  0.477878 -0.172620  0.444703  0.286047\n",
            "2  1.254649  1.768065 -0.116763 -0.149637\n",
            "3  1.229205 -2.572149 -0.288048  0.799251\n",
            "4  0.329891 -0.584274 -0.286788 -0.960961\n",
            "            0         1         2         3\n",
            "new                                        \n",
            "a   -0.231480 -0.495243  0.403791  0.151011\n",
            "b    0.477878 -0.172620  0.444703  0.286047\n",
            "c    1.254649  1.768065 -0.116763 -0.149637\n",
            "d    1.229205 -2.572149 -0.288048  0.799251\n",
            "e    0.329891 -0.584274 -0.286788 -0.960961\n"
          ],
          "name": "stdout"
        }
      ]
    },
    {
      "cell_type": "code",
      "metadata": {
        "id": "BSMrwdLe9Uya",
        "colab_type": "code",
        "colab": {}
      },
      "source": [
        ""
      ],
      "execution_count": 0,
      "outputs": []
    },
    {
      "cell_type": "code",
      "metadata": {
        "id": "AA9Q9QEy7U8O",
        "colab_type": "code",
        "colab": {}
      },
      "source": [
        ""
      ],
      "execution_count": 0,
      "outputs": []
    }
  ]
}